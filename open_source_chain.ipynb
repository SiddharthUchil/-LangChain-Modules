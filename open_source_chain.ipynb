{
 "cells": [
  {
   "attachments": {},
   "cell_type": "markdown",
   "metadata": {},
   "source": [
    "### Huggingface models\n",
    "Langchain is not only about OpenAI´s GPT Models. You can also use free and open source models, for example from huggingface."
   ]
  },
  {
   "cell_type": "code",
   "execution_count": 9,
   "metadata": {},
   "outputs": [
    {
     "name": "stdout",
     "output_type": "stream",
     "text": [
      "Requirement already satisfied: torch==2.0.1 in c:\\users\\91982\\desktop\\langchain\\langchain-full-course\\venv\\lib\\site-packages (2.0.1)\n",
      "Requirement already satisfied: filelock in c:\\users\\91982\\desktop\\langchain\\langchain-full-course\\venv\\lib\\site-packages (from torch==2.0.1) (3.12.2)\n",
      "Requirement already satisfied: typing-extensions in c:\\users\\91982\\desktop\\langchain\\langchain-full-course\\venv\\lib\\site-packages (from torch==2.0.1) (4.7.1)\n",
      "Requirement already satisfied: sympy in c:\\users\\91982\\desktop\\langchain\\langchain-full-course\\venv\\lib\\site-packages (from torch==2.0.1) (1.12)\n",
      "Requirement already satisfied: networkx in c:\\users\\91982\\desktop\\langchain\\langchain-full-course\\venv\\lib\\site-packages (from torch==2.0.1) (3.1)\n",
      "Requirement already satisfied: jinja2 in c:\\users\\91982\\desktop\\langchain\\langchain-full-course\\venv\\lib\\site-packages (from torch==2.0.1) (3.1.2)\n",
      "Requirement already satisfied: MarkupSafe>=2.0 in c:\\users\\91982\\desktop\\langchain\\langchain-full-course\\venv\\lib\\site-packages (from jinja2->torch==2.0.1) (2.1.3)\n",
      "Requirement already satisfied: mpmath>=0.19 in c:\\users\\91982\\desktop\\langchain\\langchain-full-course\\venv\\lib\\site-packages (from sympy->torch==2.0.1) (1.3.0)\n",
      "Requirement already satisfied: transformers in c:\\users\\91982\\desktop\\langchain\\langchain-full-course\\venv\\lib\\site-packages (4.31.0)\n",
      "Requirement already satisfied: filelock in c:\\users\\91982\\desktop\\langchain\\langchain-full-course\\venv\\lib\\site-packages (from transformers) (3.12.2)\n",
      "Requirement already satisfied: huggingface-hub<1.0,>=0.14.1 in c:\\users\\91982\\desktop\\langchain\\langchain-full-course\\venv\\lib\\site-packages (from transformers) (0.16.4)\n",
      "Requirement already satisfied: numpy>=1.17 in c:\\users\\91982\\desktop\\langchain\\langchain-full-course\\venv\\lib\\site-packages (from transformers) (1.25.1)\n",
      "Requirement already satisfied: packaging>=20.0 in c:\\users\\91982\\desktop\\langchain\\langchain-full-course\\venv\\lib\\site-packages (from transformers) (23.1)\n",
      "Requirement already satisfied: pyyaml>=5.1 in c:\\users\\91982\\desktop\\langchain\\langchain-full-course\\venv\\lib\\site-packages (from transformers) (6.0.1)\n",
      "Requirement already satisfied: regex!=2019.12.17 in c:\\users\\91982\\desktop\\langchain\\langchain-full-course\\venv\\lib\\site-packages (from transformers) (2023.6.3)\n",
      "Requirement already satisfied: requests in c:\\users\\91982\\desktop\\langchain\\langchain-full-course\\venv\\lib\\site-packages (from transformers) (2.31.0)\n",
      "Requirement already satisfied: tokenizers!=0.11.3,<0.14,>=0.11.1 in c:\\users\\91982\\desktop\\langchain\\langchain-full-course\\venv\\lib\\site-packages (from transformers) (0.13.3)\n",
      "Requirement already satisfied: safetensors>=0.3.1 in c:\\users\\91982\\desktop\\langchain\\langchain-full-course\\venv\\lib\\site-packages (from transformers) (0.3.1)\n",
      "Requirement already satisfied: tqdm>=4.27 in c:\\users\\91982\\desktop\\langchain\\langchain-full-course\\venv\\lib\\site-packages (from transformers) (4.65.0)\n",
      "Requirement already satisfied: fsspec in c:\\users\\91982\\desktop\\langchain\\langchain-full-course\\venv\\lib\\site-packages (from huggingface-hub<1.0,>=0.14.1->transformers) (2023.6.0)\n",
      "Requirement already satisfied: typing-extensions>=3.7.4.3 in c:\\users\\91982\\desktop\\langchain\\langchain-full-course\\venv\\lib\\site-packages (from huggingface-hub<1.0,>=0.14.1->transformers) (4.7.1)\n",
      "Requirement already satisfied: colorama in c:\\users\\91982\\desktop\\langchain\\langchain-full-course\\venv\\lib\\site-packages (from tqdm>=4.27->transformers) (0.4.6)\n",
      "Requirement already satisfied: charset-normalizer<4,>=2 in c:\\users\\91982\\desktop\\langchain\\langchain-full-course\\venv\\lib\\site-packages (from requests->transformers) (3.2.0)\n",
      "Requirement already satisfied: idna<4,>=2.5 in c:\\users\\91982\\desktop\\langchain\\langchain-full-course\\venv\\lib\\site-packages (from requests->transformers) (3.4)\n",
      "Requirement already satisfied: urllib3<3,>=1.21.1 in c:\\users\\91982\\desktop\\langchain\\langchain-full-course\\venv\\lib\\site-packages (from requests->transformers) (2.0.4)\n",
      "Requirement already satisfied: certifi>=2017.4.17 in c:\\users\\91982\\desktop\\langchain\\langchain-full-course\\venv\\lib\\site-packages (from requests->transformers) (2023.5.7)\n",
      "Requirement already satisfied: accelerate in c:\\users\\91982\\desktop\\langchain\\langchain-full-course\\venv\\lib\\site-packages (0.21.0)\n",
      "Requirement already satisfied: numpy>=1.17 in c:\\users\\91982\\desktop\\langchain\\langchain-full-course\\venv\\lib\\site-packages (from accelerate) (1.25.1)\n",
      "Requirement already satisfied: packaging>=20.0 in c:\\users\\91982\\desktop\\langchain\\langchain-full-course\\venv\\lib\\site-packages (from accelerate) (23.1)\n",
      "Requirement already satisfied: psutil in c:\\users\\91982\\desktop\\langchain\\langchain-full-course\\venv\\lib\\site-packages (from accelerate) (5.9.5)\n",
      "Requirement already satisfied: pyyaml in c:\\users\\91982\\desktop\\langchain\\langchain-full-course\\venv\\lib\\site-packages (from accelerate) (6.0.1)\n",
      "Requirement already satisfied: torch>=1.10.0 in c:\\users\\91982\\desktop\\langchain\\langchain-full-course\\venv\\lib\\site-packages (from accelerate) (2.0.1)\n",
      "Requirement already satisfied: filelock in c:\\users\\91982\\desktop\\langchain\\langchain-full-course\\venv\\lib\\site-packages (from torch>=1.10.0->accelerate) (3.12.2)\n",
      "Requirement already satisfied: typing-extensions in c:\\users\\91982\\desktop\\langchain\\langchain-full-course\\venv\\lib\\site-packages (from torch>=1.10.0->accelerate) (4.7.1)\n",
      "Requirement already satisfied: sympy in c:\\users\\91982\\desktop\\langchain\\langchain-full-course\\venv\\lib\\site-packages (from torch>=1.10.0->accelerate) (1.12)\n",
      "Requirement already satisfied: networkx in c:\\users\\91982\\desktop\\langchain\\langchain-full-course\\venv\\lib\\site-packages (from torch>=1.10.0->accelerate) (3.1)\n",
      "Requirement already satisfied: jinja2 in c:\\users\\91982\\desktop\\langchain\\langchain-full-course\\venv\\lib\\site-packages (from torch>=1.10.0->accelerate) (3.1.2)\n",
      "Requirement already satisfied: MarkupSafe>=2.0 in c:\\users\\91982\\desktop\\langchain\\langchain-full-course\\venv\\lib\\site-packages (from jinja2->torch>=1.10.0->accelerate) (2.1.3)\n",
      "Requirement already satisfied: mpmath>=0.19 in c:\\users\\91982\\desktop\\langchain\\langchain-full-course\\venv\\lib\\site-packages (from sympy->torch>=1.10.0->accelerate) (1.3.0)\n",
      "Requirement already satisfied: einops in c:\\users\\91982\\desktop\\langchain\\langchain-full-course\\venv\\lib\\site-packages (0.6.1)\n",
      "Requirement already satisfied: huggingface_hub in c:\\users\\91982\\desktop\\langchain\\langchain-full-course\\venv\\lib\\site-packages (0.16.4)\n",
      "Requirement already satisfied: filelock in c:\\users\\91982\\desktop\\langchain\\langchain-full-course\\venv\\lib\\site-packages (from huggingface_hub) (3.12.2)\n",
      "Requirement already satisfied: fsspec in c:\\users\\91982\\desktop\\langchain\\langchain-full-course\\venv\\lib\\site-packages (from huggingface_hub) (2023.6.0)\n",
      "Requirement already satisfied: requests in c:\\users\\91982\\desktop\\langchain\\langchain-full-course\\venv\\lib\\site-packages (from huggingface_hub) (2.31.0)\n",
      "Requirement already satisfied: tqdm>=4.42.1 in c:\\users\\91982\\desktop\\langchain\\langchain-full-course\\venv\\lib\\site-packages (from huggingface_hub) (4.65.0)\n",
      "Requirement already satisfied: pyyaml>=5.1 in c:\\users\\91982\\desktop\\langchain\\langchain-full-course\\venv\\lib\\site-packages (from huggingface_hub) (6.0.1)\n",
      "Requirement already satisfied: typing-extensions>=3.7.4.3 in c:\\users\\91982\\desktop\\langchain\\langchain-full-course\\venv\\lib\\site-packages (from huggingface_hub) (4.7.1)\n",
      "Requirement already satisfied: packaging>=20.9 in c:\\users\\91982\\desktop\\langchain\\langchain-full-course\\venv\\lib\\site-packages (from huggingface_hub) (23.1)\n",
      "Requirement already satisfied: colorama in c:\\users\\91982\\desktop\\langchain\\langchain-full-course\\venv\\lib\\site-packages (from tqdm>=4.42.1->huggingface_hub) (0.4.6)\n",
      "Requirement already satisfied: charset-normalizer<4,>=2 in c:\\users\\91982\\desktop\\langchain\\langchain-full-course\\venv\\lib\\site-packages (from requests->huggingface_hub) (3.2.0)\n",
      "Requirement already satisfied: idna<4,>=2.5 in c:\\users\\91982\\desktop\\langchain\\langchain-full-course\\venv\\lib\\site-packages (from requests->huggingface_hub) (3.4)\n",
      "Requirement already satisfied: urllib3<3,>=1.21.1 in c:\\users\\91982\\desktop\\langchain\\langchain-full-course\\venv\\lib\\site-packages (from requests->huggingface_hub) (2.0.4)\n",
      "Requirement already satisfied: certifi>=2017.4.17 in c:\\users\\91982\\desktop\\langchain\\langchain-full-course\\venv\\lib\\site-packages (from requests->huggingface_hub) (2023.5.7)\n",
      "Requirement already satisfied: langchain in c:\\users\\91982\\desktop\\langchain\\langchain-full-course\\venv\\lib\\site-packages (0.0.207)\n",
      "Requirement already satisfied: PyYAML>=5.4.1 in c:\\users\\91982\\desktop\\langchain\\langchain-full-course\\venv\\lib\\site-packages (from langchain) (6.0.1)\n",
      "Requirement already satisfied: SQLAlchemy<3,>=1.4 in c:\\users\\91982\\desktop\\langchain\\langchain-full-course\\venv\\lib\\site-packages (from langchain) (2.0.19)\n",
      "Requirement already satisfied: aiohttp<4.0.0,>=3.8.3 in c:\\users\\91982\\desktop\\langchain\\langchain-full-course\\venv\\lib\\site-packages (from langchain) (3.8.5)\n",
      "Requirement already satisfied: async-timeout<5.0.0,>=4.0.0 in c:\\users\\91982\\desktop\\langchain\\langchain-full-course\\venv\\lib\\site-packages (from langchain) (4.0.2)\n",
      "Requirement already satisfied: dataclasses-json<0.6.0,>=0.5.7 in c:\\users\\91982\\desktop\\langchain\\langchain-full-course\\venv\\lib\\site-packages (from langchain) (0.5.13)\n",
      "Requirement already satisfied: langchainplus-sdk>=0.0.13 in c:\\users\\91982\\desktop\\langchain\\langchain-full-course\\venv\\lib\\site-packages (from langchain) (0.0.16)\n",
      "Requirement already satisfied: numexpr<3.0.0,>=2.8.4 in c:\\users\\91982\\desktop\\langchain\\langchain-full-course\\venv\\lib\\site-packages (from langchain) (2.8.4)\n",
      "Requirement already satisfied: numpy<2,>=1 in c:\\users\\91982\\desktop\\langchain\\langchain-full-course\\venv\\lib\\site-packages (from langchain) (1.25.1)\n",
      "Requirement already satisfied: openapi-schema-pydantic<2.0,>=1.2 in c:\\users\\91982\\desktop\\langchain\\langchain-full-course\\venv\\lib\\site-packages (from langchain) (1.2.4)\n",
      "Requirement already satisfied: pydantic<2,>=1 in c:\\users\\91982\\desktop\\langchain\\langchain-full-course\\venv\\lib\\site-packages (from langchain) (1.10.11)\n",
      "Requirement already satisfied: requests<3,>=2 in c:\\users\\91982\\desktop\\langchain\\langchain-full-course\\venv\\lib\\site-packages (from langchain) (2.31.0)\n",
      "Requirement already satisfied: tenacity<9.0.0,>=8.1.0 in c:\\users\\91982\\desktop\\langchain\\langchain-full-course\\venv\\lib\\site-packages (from langchain) (8.2.2)\n",
      "Requirement already satisfied: attrs>=17.3.0 in c:\\users\\91982\\desktop\\langchain\\langchain-full-course\\venv\\lib\\site-packages (from aiohttp<4.0.0,>=3.8.3->langchain) (23.1.0)\n",
      "Requirement already satisfied: charset-normalizer<4.0,>=2.0 in c:\\users\\91982\\desktop\\langchain\\langchain-full-course\\venv\\lib\\site-packages (from aiohttp<4.0.0,>=3.8.3->langchain) (3.2.0)\n",
      "Requirement already satisfied: multidict<7.0,>=4.5 in c:\\users\\91982\\desktop\\langchain\\langchain-full-course\\venv\\lib\\site-packages (from aiohttp<4.0.0,>=3.8.3->langchain) (6.0.4)\n",
      "Requirement already satisfied: yarl<2.0,>=1.0 in c:\\users\\91982\\desktop\\langchain\\langchain-full-course\\venv\\lib\\site-packages (from aiohttp<4.0.0,>=3.8.3->langchain) (1.9.2)\n",
      "Requirement already satisfied: frozenlist>=1.1.1 in c:\\users\\91982\\desktop\\langchain\\langchain-full-course\\venv\\lib\\site-packages (from aiohttp<4.0.0,>=3.8.3->langchain) (1.4.0)\n",
      "Requirement already satisfied: aiosignal>=1.1.2 in c:\\users\\91982\\desktop\\langchain\\langchain-full-course\\venv\\lib\\site-packages (from aiohttp<4.0.0,>=3.8.3->langchain) (1.3.1)\n",
      "Requirement already satisfied: marshmallow<4.0.0,>=3.18.0 in c:\\users\\91982\\desktop\\langchain\\langchain-full-course\\venv\\lib\\site-packages (from dataclasses-json<0.6.0,>=0.5.7->langchain) (3.20.1)\n",
      "Requirement already satisfied: typing-inspect<1,>=0.4.0 in c:\\users\\91982\\desktop\\langchain\\langchain-full-course\\venv\\lib\\site-packages (from dataclasses-json<0.6.0,>=0.5.7->langchain) (0.9.0)\n",
      "Requirement already satisfied: typing-extensions>=4.2.0 in c:\\users\\91982\\desktop\\langchain\\langchain-full-course\\venv\\lib\\site-packages (from pydantic<2,>=1->langchain) (4.7.1)\n",
      "Requirement already satisfied: idna<4,>=2.5 in c:\\users\\91982\\desktop\\langchain\\langchain-full-course\\venv\\lib\\site-packages (from requests<3,>=2->langchain) (3.4)\n",
      "Requirement already satisfied: urllib3<3,>=1.21.1 in c:\\users\\91982\\desktop\\langchain\\langchain-full-course\\venv\\lib\\site-packages (from requests<3,>=2->langchain) (2.0.4)\n",
      "Requirement already satisfied: certifi>=2017.4.17 in c:\\users\\91982\\desktop\\langchain\\langchain-full-course\\venv\\lib\\site-packages (from requests<3,>=2->langchain) (2023.5.7)\n",
      "Requirement already satisfied: greenlet!=0.4.17 in c:\\users\\91982\\desktop\\langchain\\langchain-full-course\\venv\\lib\\site-packages (from SQLAlchemy<3,>=1.4->langchain) (2.0.2)\n",
      "Requirement already satisfied: packaging>=17.0 in c:\\users\\91982\\desktop\\langchain\\langchain-full-course\\venv\\lib\\site-packages (from marshmallow<4.0.0,>=3.18.0->dataclasses-json<0.6.0,>=0.5.7->langchain) (23.1)\n",
      "Requirement already satisfied: mypy-extensions>=0.3.0 in c:\\users\\91982\\desktop\\langchain\\langchain-full-course\\venv\\lib\\site-packages (from typing-inspect<1,>=0.4.0->dataclasses-json<0.6.0,>=0.5.7->langchain) (1.0.0)\n"
     ]
    }
   ],
   "source": [
    "!pip3 install torch==2.0.1\n",
    "!pip3 install transformers\n",
    "!pip3 install accelerate\n",
    "!pip3 install einops\n",
    "!pip3 install huggingface_hub\n",
    "!pip3 install langchain"
   ]
  },
  {
   "cell_type": "code",
   "execution_count": 10,
   "metadata": {},
   "outputs": [],
   "source": [
    "from langchain import HuggingFaceHub\n",
    "from langchain import PromptTemplate, LLMChain"
   ]
  },
  {
   "attachments": {},
   "cell_type": "markdown",
   "metadata": {},
   "source": [
    "You need a Huggingface account and API Key from Huggingface and create a token at: https://huggingface.co/settings/tokens.\n",
    "You can also set the token in the notebook"
   ]
  },
  {
   "cell_type": "code",
   "execution_count": 11,
   "metadata": {},
   "outputs": [],
   "source": [
    "\n",
    "#os.environ[\"HUGGINGFACEHUB_API_TOKEN\"] = \"your api key\"\n",
    "from dotenv import load_dotenv\n",
    "load_dotenv()\n",
    "\n",
    "llm = HuggingFaceHub(repo_id=\"tiiuae/falcon-7b-instruct\", model_kwargs={\"max_length\":64, \"max_new_tokens\":100})"
   ]
  },
  {
   "cell_type": "code",
   "execution_count": 12,
   "metadata": {},
   "outputs": [
    {
     "data": {
      "text/plain": [
       "'\\n1. The user is asking a question.\\n2. The user is asking for a specific type of duck.\\n3. The user is asking for a specific type of joke.\\n4. The user is asking for a specific type of joke about ducks.\\n5. The user is asking for a specific type of joke about ducks that is funny.\\n6. The user is asking for a specific type of joke about ducks that is helpful.\\n7. The user is asking for'"
      ]
     },
     "execution_count": 12,
     "metadata": {},
     "output_type": "execute_result"
    }
   ],
   "source": [
    "template = \"\"\"\n",
    "You are a helpful bot that makes funny jokes about {topic}\n",
    "\n",
    "Answer: Let's think step by step.\n",
    "\"\"\"\n",
    "\n",
    "prompt_template = PromptTemplate.from_template(template=template)\n",
    "chain = LLMChain(llm=llm, prompt=prompt_template)\n",
    "chain.run(\"Ducks\")"
   ]
  },
  {
   "attachments": {},
   "cell_type": "markdown",
   "metadata": {},
   "source": [
    "### Personal Opinion:\n",
    "The output is pretty BAD. The LLM is better when getting some context, which is written in a human like language."
   ]
  },
  {
   "cell_type": "code",
   "execution_count": 13,
   "metadata": {},
   "outputs": [],
   "source": [
    "template = \"\"\"Answer the question as truthfully as possible using the provided text, and if the answer is not contained within the text below, say \"I don't know\"\n",
    "\n",
    "Context:\n",
    "{context}\n",
    "\n",
    "{query}\"\"\".strip()\n",
    "\n",
    "context = \"\"\"\n",
    "The men's high jump event at the 2020 Summer Olympics took place between 30 July and 1 August 2021 at the Olympic Stadium.\n",
    "33 athletes from 24 nations competed; the total possible number depended on how many nations would use universality places \n",
    "to enter athletes in addition to the 32 qualifying through mark or ranking (no universality places were used in 2021).\n",
    "Italian athlete Gianmarco Tamberi along with Qatari athlete Mutaz Essa Barshim emerged as joint winners of the event following\n",
    "a tie between both of them as they cleared 2.37m. Both Tamberi and Barshim agreed to share the gold medal in a rare instance\n",
    "where the athletes of different nations had agreed to share the same medal in the history of Olympics. \n",
    "Barshim in particular was heard to ask a competition official \"Can we have two golds?\" in response to being offered a \n",
    "'jump off'. Maksim Nedasekau of Belarus took bronze. The medals were the first ever in the men's high jump for Italy and \n",
    "Belarus, the first gold in the men's high jump for Italy and Qatar, and the third consecutive medal in the men's high jump\n",
    "for Qatar (all by Barshim). Barshim became only the second man to earn three medals in high jump, joining Patrik Sjöberg\n",
    "of Sweden (1984 to 1992).\"\"\"\n",
    "\n",
    "\n",
    "prompt  = PromptTemplate(\n",
    "    input_variables=[\"context\", \"query\"],\n",
    "    template=template\n",
    ")"
   ]
  },
  {
   "cell_type": "code",
   "execution_count": 14,
   "metadata": {},
   "outputs": [],
   "source": [
    "query = \"Who won the 2020 Summer Olympics men's high jump?\""
   ]
  },
  {
   "cell_type": "code",
   "execution_count": 15,
   "metadata": {},
   "outputs": [
    {
     "data": {
      "text/plain": [
       "'\\nGianmarco Tamberi of Italy and Qatari athlete Mutaz Essa Barshim shared the gold medal.'"
      ]
     },
     "execution_count": 15,
     "metadata": {},
     "output_type": "execute_result"
    }
   ],
   "source": [
    "chain = LLMChain(llm=llm, prompt=prompt)\n",
    "chain.run({\"query\": query, \"context\": context})"
   ]
  }
 ],
 "metadata": {
  "kernelspec": {
   "display_name": "Python 3",
   "language": "python",
   "name": "python3"
  },
  "language_info": {
   "codemirror_mode": {
    "name": "ipython",
    "version": 3
   },
   "file_extension": ".py",
   "mimetype": "text/x-python",
   "name": "python",
   "nbconvert_exporter": "python",
   "pygments_lexer": "ipython3",
   "version": "3.10.11"
  }
 },
 "nbformat": 4,
 "nbformat_minor": 2
}
